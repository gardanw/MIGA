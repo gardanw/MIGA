{
 "cells": [
  {
   "cell_type": "code",
   "execution_count": 1,
   "metadata": {
    "pycharm": {
     "name": "#%%\n"
    }
   },
   "outputs": [
    {
     "name": "stdout",
     "output_type": "stream",
     "text": [
      "gpus 1\n"
     ]
    }
   ],
   "source": [
    "import warnings\n",
    "warnings.filterwarnings(\"ignore\")\n",
    "import pandas as pd\n",
    "from embedding_viewer import CMEViewer\n",
    "from utils.distribution import DeviceManager\n",
    "import os\n",
    "os.environ['RANK'] = '-1'\n",
    "DeviceManager('1')\n",
    "\n",
    "path = '/rhome/lianyu.zhou/dataset/Omics/train.csv'\n",
    "smiles_list = []\n",
    "add_samples = 10\n",
    "with open(path) as f:\n",
    "    df = pd.read_csv(path)\n",
    "    df = df.groupby('compound').agg({'smiles': lambda x: x.values[0]}).reset_index()\n",
    "    for i in range(30000 - add_samples, 30000):\n",
    "        smiles_list.append(df.iloc[i]['smiles'])"
   ]
  },
  {
   "cell_type": "code",
   "execution_count": 2,
   "metadata": {
    "pycharm": {
     "name": "#%%\n"
    }
   },
   "outputs": [
    {
     "data": {
      "text/plain": [
       "['C[C@H](CO)N1C[C@H](C)[C@@H](CN(C)S(C)(=O)=O)OCc2cn(CCCC1=O)nn2',\n",
       " 'CC(=O)Nc1ccc(cc1)S(=O)(=O)N1c2ccccc2C(C)=CC1(C)C',\n",
       " 'COC(=O)C[C@@H]1CC[C@@H]2[C@H](COC[C@@H](O)CN2CCC(F)(F)F)O1',\n",
       " 'C[C@]12C[C@H](O)[C@H]3[C@@H](CCC4=CC(=O)C=C[C@]34C)[C@@H]1CC[C@]2(O)C(=O)CO',\n",
       " 'Clc1ccc(cc1)-c1nnc(o1)C(=O)c1ccc(cc1)S(=O)(=O)N1CCCCC1',\n",
       " 'COc1ccc(NC(=O)Nc2ccc3O[C@@H]4[C@@H](C[C@@H](CC(=O)NC5CCCCC5)O[C@H]4CO)c3c2)cc1',\n",
       " 'COc1ccc(cc1)S(=O)(=O)Nc1ccc2O[C@@H](C)CCCCO[C@@H](CN(C)C)[C@@H](C)CN([C@H](C)CO)C(=O)c2c1',\n",
       " 'O=c1cc(oc2c3ccccc3ccc12)-c1ccncc1',\n",
       " 'O[C@H]1COC[C@@H]2O[C@@H](CC(=O)Nc3nccs3)CC[C@H]2N(Cc2cc(F)cc(F)c2)C1',\n",
       " 'C[C@@H](NC(=O)C[C@@H]1O[C@H](CO)[C@H](NC(=O)c2cccnc2)C=C1)c1ccccc1']"
      ]
     },
     "execution_count": 2,
     "metadata": {},
     "output_type": "execute_result"
    }
   ],
   "source": [
    "smiles_list"
   ]
  },
  {
   "cell_type": "code",
   "execution_count": 3,
   "metadata": {
    "pycharm": {
     "name": "#%%\n"
    }
   },
   "outputs": [
    {
     "name": "stdout",
     "output_type": "stream",
     "text": [
      "Calling: init_model\n"
     ]
    },
    {
     "name": "stderr",
     "output_type": "stream",
     "text": [
      "WARNING:root:The OGB package is out of date. Your version is 1.3.2, while the latest version is 1.3.5.\n"
     ]
    },
    {
     "name": "stdout",
     "output_type": "stream",
     "text": [
      "Loading checkpoint /rhome/lianyu.zhou/cache/MIGA/miga_transformer_b128_l3_atom60/2023-2-4-15-26-18/weight/model_700.pth\n",
      "Calling: init_embeddings\n",
      "Calling: init_transformation_from_ori_embeddings\n"
     ]
    },
    {
     "name": "stderr",
     "output_type": "stream",
     "text": [
      "OMP: Info #274: omp_set_nested routine deprecated, please use omp_set_max_active_levels instead.\n"
     ]
    },
    {
     "name": "stdout",
     "output_type": "stream",
     "text": [
      "Embeddings are not 2D, skipping alignment\n",
      "Calling: construct_view\n"
     ]
    }
   ],
   "source": [
    "import warnings\n",
    "warnings.filterwarnings(\"ignore\")\n",
    "config = 'config/miga_vis/network_cfg.yaml'\n",
    "v = CMEViewer(config)"
   ]
  },
  {
   "cell_type": "code",
   "execution_count": 4,
   "metadata": {
    "pycharm": {
     "name": "#%%\n"
    }
   },
   "outputs": [
    {
     "data": {
      "application/vnd.jupyter.widget-view+json": {
       "model_id": "eb84cee0e1e7454283303ba28584fad5",
       "version_major": 2,
       "version_minor": 0
      },
      "text/plain": [
       "Viewer(colorScheme='tableau', data={'data': [{'_format': 'compressed', '_idtype': 'u2', '_length': 3000, 'ids'…"
      ]
     },
     "execution_count": 4,
     "metadata": {},
     "output_type": "execute_result"
    }
   ],
   "source": [
    "v.viewer_list[-1]"
   ]
  },
  {
   "cell_type": "code",
   "execution_count": 5,
   "metadata": {
    "pycharm": {
     "name": "#%%\n"
    }
   },
   "outputs": [
    {
     "name": "stdout",
     "output_type": "stream",
     "text": [
      "Calling: get_new_smiles_embeddings\n",
      "Calling: construct_view\n"
     ]
    }
   ],
   "source": [
    "v.add_new_smiles_embedding(smiles_list)"
   ]
  },
  {
   "cell_type": "code",
   "execution_count": 6,
   "metadata": {
    "slideshow": {
     "slide_type": "-"
    },
    "pycharm": {
     "name": "#%%\n"
    }
   },
   "outputs": [
    {
     "data": {
      "application/vnd.jupyter.widget-view+json": {
       "model_id": "327329265e754ec39e8bb58ae68c402c",
       "version_major": 2,
       "version_minor": 0
      },
      "text/plain": [
       "Viewer(colorScheme='tableau', data={'data': [{'_format': 'compressed', '_idtype': 'u2', '_length': 3010, 'ids'…"
      ]
     },
     "execution_count": 6,
     "metadata": {},
     "output_type": "execute_result"
    }
   ],
   "source": [
    "v.viewer_list[-1]"
   ]
  },
  {
   "cell_type": "code",
   "execution_count": 7,
   "metadata": {
    "pycharm": {
     "name": "#%%\n"
    }
   },
   "outputs": [
    {
     "data": {
      "application/vnd.jupyter.widget-view+json": {
       "model_id": "b255b7de13514acab899d87fd2922561",
       "version_major": 2,
       "version_minor": 0
      },
      "text/plain": [
       "Viewer(colorScheme='tableau', data={'data': [{'_format': 'compressed', '_idtype': 'u2', '_length': 1500, 'ids'…"
      ]
     },
     "execution_count": 7,
     "metadata": {},
     "output_type": "execute_result"
    }
   ],
   "source": [
    "v.viewer_list[0]"
   ]
  },
  {
   "cell_type": "code",
   "execution_count": null,
   "metadata": {
    "pycharm": {
     "name": "#%%\n"
    }
   },
   "outputs": [],
   "source": []
  }
 ],
 "metadata": {
  "celltoolbar": "原始单元格格式",
  "kernelspec": {
   "display_name": "Python 3 (ipykernel)",
   "language": "python",
   "name": "python3"
  },
  "language_info": {
   "codemirror_mode": {
    "name": "ipython",
    "version": 3
   },
   "file_extension": ".py",
   "mimetype": "text/x-python",
   "name": "python",
   "nbconvert_exporter": "python",
   "pygments_lexer": "ipython3",
   "version": "3.7.9"
  }
 },
 "nbformat": 4,
 "nbformat_minor": 1
}