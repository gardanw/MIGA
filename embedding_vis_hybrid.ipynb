{
 "cells": [
  {
   "cell_type": "code",
   "execution_count": 15,
   "metadata": {
    "pycharm": {
     "name": "#%%\n"
    }
   },
   "outputs": [],
   "source": [
    "import numpy as np\n",
    "import os\n",
    "import miga_emblaze.emblaze as m_emb\n",
    "from miga_emblaze.emblaze.utils import Field, ProjectionTechnique\n",
    "import cv2\n",
    "\n",
    "embedding_dir =  '/rhome/lianyu.zhou/cache/cluster_test_set_gformer_l3_b256_atom60'\n",
    "need = ['img', 'graph']\n",
    "modal_num = len(need)\n",
    "samples_num = 3000\n",
    "embeddings_list = [np.load(os.path.join(embedding_dir, f\"{name}_embedding.npy\"))[:samples_num]\n",
    "                                  for name in need]"
   ]
  },
  {
   "cell_type": "code",
   "execution_count": 9,
   "metadata": {
    "pycharm": {
     "name": "#%%\n"
    }
   },
   "outputs": [],
   "source": [
    "show_img = True"
   ]
  },
  {
   "cell_type": "code",
   "execution_count": 16,
   "metadata": {
    "pycharm": {
     "name": "#%%\n"
    }
   },
   "outputs": [],
   "source": [
    "modal_imgs_list = [[] for _ in range(modal_num)]\n",
    "for m_i, modal_name in enumerate(need):\n",
    "    modal_imgs_dir = f'/rhome/lianyu.zhou/dataset/omics_{modal_name}_vis'\n",
    "    for i in range(samples_num):\n",
    "        read_path = os.path.join(modal_imgs_dir, f\"{i:05d}.png\")\n",
    "        img = cv2.imread(read_path)[..., ::-1]\n",
    "        modal_imgs_list[m_i].append(img)\n",
    "merged_modal_imgs_list = modal_imgs_list[0] + modal_imgs_list[1]"
   ]
  },
  {
   "cell_type": "code",
   "execution_count": 17,
   "metadata": {
    "pycharm": {
     "name": "#%%\n"
    }
   },
   "outputs": [],
   "source": [
    "if show_img:\n",
    "    thumbnails = m_emb.ImageThumbnails(merged_modal_imgs_list)\n",
    "else:\n",
    "    thumbnails = None"
   ]
  },
  {
   "cell_type": "code",
   "execution_count": 18,
   "metadata": {
    "pycharm": {
     "name": "#%%\n"
    }
   },
   "outputs": [
    {
     "data": {
      "application/vnd.jupyter.widget-view+json": {
       "model_id": "8af04a10e2f74dec80306fc04c8e3e66",
       "version_major": 2,
       "version_minor": 0
      },
      "text/plain": [
       "Viewer(colorScheme='tableau', data={'data': [{'_format': 'compressed', '_idtype': 'u2', '_length': 6000, 'ids'…"
      ]
     },
     "execution_count": 18,
     "metadata": {},
     "output_type": "execute_result"
    }
   ],
   "source": [
    "import umap\n",
    "color_list = [i * np.ones(e.shape[0]) for i, e in enumerate(embeddings_list)]\n",
    "color_array, merge_embedding = list(map(lambda x: np.concatenate(x, axis=0), [color_list, embeddings_list]))\n",
    "trans = umap.UMAP(metric='cosine',n_neighbors=100).fit(merge_embedding)\n",
    "reduced_embedding = trans.embedding_\n",
    "view_embedding = m_emb.EmbeddingSet([m_emb.Embedding({Field.POSITION: reduced_embedding, Field.COLOR: color_array})])\n",
    "view_embedding.compute_neighbors(metric='euclidean', n_neighbors=100)\n",
    "w = m_emb.Viewer(embeddings=view_embedding, thumbnails=thumbnails)\n",
    "w"
   ]
  },
  {
   "cell_type": "code",
   "execution_count": 19,
   "metadata": {
    "pycharm": {
     "name": "#%%\n"
    }
   },
   "outputs": [],
   "source": [
    "from utils.utils import add_new_embedding\n",
    "new_reduced, new_thum = add_new_embedding([i for i in range(samples_num, samples_num + 20)], \n",
    "                                          0, \n",
    "                                          trans, \n",
    "                                          reduced_embedding, \n",
    "                                          color_array, \n",
    "                                          merged_modal_imgs_list)\n"
   ]
  },
  {
   "cell_type": "code",
   "execution_count": 21,
   "metadata": {
    "pycharm": {
     "name": "#%%\n"
    }
   },
   "outputs": [],
   "source": [
    "new_w = m_emb.Viewer(embeddings=new_reduced, thumbnails=new_thum)\n",
    "new_w\n"
   ]
  }
 ],
 "metadata": {
  "kernelspec": {
   "display_name": "Python 3 (ipykernel)",
   "language": "python",
   "name": "python3"
  },
  "language_info": {
   "codemirror_mode": {
    "name": "ipython",
    "version": 3
   },
   "file_extension": ".py",
   "mimetype": "text/x-python",
   "name": "python",
   "nbconvert_exporter": "python",
   "pygments_lexer": "ipython3",
   "version": "3.7.9"
  }
 },
 "nbformat": 4,
 "nbformat_minor": 1
}